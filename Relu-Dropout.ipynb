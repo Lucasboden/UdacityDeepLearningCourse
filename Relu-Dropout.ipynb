{
 "cells": [
  {
   "cell_type": "code",
   "execution_count": 10,
   "metadata": {},
   "outputs": [
    {
     "name": "stdout",
     "output_type": "stream",
     "text": [
      "[[  1.88         0.94      ]\n",
      " [  0.19600001   0.098     ]\n",
      " [ 14.28000069  33.10000229]]\n",
      "[array([[ 0.1       ,  0.2       ,  0.40000001],\n",
      "       [ 0.40000001,  0.60000002,  0.60000002],\n",
      "       [ 0.5       ,  0.89999998,  0.1       ],\n",
      "       [ 0.80000001,  0.2       ,  0.80000001]], dtype=float32), array([[ 0.1       ,  0.60000002],\n",
      "       [ 0.2       ,  0.1       ],\n",
      "       [ 0.69999999,  0.89999998]], dtype=float32)]\n"
     ]
    }
   ],
   "source": [
    "#Creating a 2 layers Neural Network (relu and dropout)\n",
    "import tensorflow as tf\n",
    "\n",
    "hidden_layer_weights = [\n",
    "    [0.1, 0.2, 0.4],\n",
    "    [0.4, 0.6, 0.6],\n",
    "    [0.5, 0.9, 0.1],\n",
    "    [0.8, 0.2, 0.8]]\n",
    "out_weights = [\n",
    "    [0.1, 0.6],\n",
    "    [0.2, 0.1],\n",
    "    [0.7, 0.9]]\n",
    "\n",
    "# Weights and biases\n",
    "weights = [\n",
    "    tf.Variable(hidden_layer_weights),\n",
    "    tf.Variable(out_weights)]\n",
    "biases = [\n",
    "    tf.Variable(tf.zeros(3)),\n",
    "    tf.Variable(tf.zeros(2))]\n",
    "keep_prob = tf.placeholder(tf.float32)\n",
    "# Input\n",
    "features = tf.Variable([[0.0, 2.0, 3.0, 4.0], [0.1, 0.2, 0.3, 0.4], [11.0, 12.0, 13.0, 14.0]])\n",
    "#Model\n",
    "hidden_layer = tf.add(tf.matmul( features, weights[0]), biases[0])\n",
    "hidden_layer = tf.nn.relu(hidden_layer)\n",
    "hidden_layer = tf.nn.dropout(hidden_layer, keep_prob)\n",
    "logits = tf.add(tf.matmul( hidden_layer, weights[1]), biases[1])\n",
    "init = tf.global_variables_initializer()\n",
    "#Session\n",
    "with tf.Session() as ss:\n",
    "    ss.run(init)\n",
    "    print (ss.run(logits, feed_dict = {keep_prob:0.5}))\n",
    "    print(ss.run(weights))"
   ]
  },
  {
   "cell_type": "code",
   "execution_count": 7,
   "metadata": {},
   "outputs": [
    {
     "data": {
      "text/plain": [
       "array([ 1.,  1.,  1., ...,  0.,  0.,  0.])"
      ]
     },
     "execution_count": 7,
     "metadata": {},
     "output_type": "execute_result"
    }
   ],
   "source": []
  },
  {
   "cell_type": "code",
   "execution_count": null,
   "metadata": {
    "collapsed": true
   },
   "outputs": [],
   "source": []
  }
 ],
 "metadata": {
  "kernelspec": {
   "display_name": "Python 3",
   "language": "python",
   "name": "python3"
  },
  "language_info": {
   "codemirror_mode": {
    "name": "ipython",
    "version": 3
   },
   "file_extension": ".py",
   "mimetype": "text/x-python",
   "name": "python",
   "nbconvert_exporter": "python",
   "pygments_lexer": "ipython3",
   "version": "3.5.4"
  }
 },
 "nbformat": 4,
 "nbformat_minor": 2
}
