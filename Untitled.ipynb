{
 "cells": [
  {
   "cell_type": "code",
   "execution_count": 1,
   "metadata": {
    "collapsed": true
   },
   "outputs": [],
   "source": [
    "import pandas as pd\n",
    "import numpy as np\n",
    "import matplotlib.pyplot as plt\n",
    "import tensorflow as tf\n",
    "%matplotlib inline"
   ]
  },
  {
   "cell_type": "code",
   "execution_count": null,
   "metadata": {
    "collapsed": true
   },
   "outputs": [],
   "source": [
    "df = np.array(pd.read_csv(\"/home/lucas/Desktop/Curso/DNN/UdacityDeepLearningCourse/data/cluster-in-cluster--1000.csv\"))\n",
    "X = df[:,1]\n",
    "Y = df[:,2]\n",
    "\n",
    "N_test = 100\n",
    "X_test = np.linspace(0.0, 4.0, N_test).reshape((N_test, 1))\n",
    "y_test = np.linspace(7.0, -5.0, N_test)+ 2*np.random.randn(N_test)\n",
    "\n",
    "plt.plot(X, y, 'bo', label='Training')\n",
    "plt.plot(X_test[:, 0], y_test, \"g.\", label='Test')\n",
    "plt.xlabel('$X$'); plt.ylabel('$y$'); plt.legend(frameon=True);\n"
   ]
  }
 ],
 "metadata": {
  "kernelspec": {
   "display_name": "Python 3",
   "language": "python",
   "name": "python3"
  },
  "language_info": {
   "codemirror_mode": {
    "name": "ipython",
    "version": 3
   },
   "file_extension": ".py",
   "mimetype": "text/x-python",
   "name": "python",
   "nbconvert_exporter": "python",
   "pygments_lexer": "ipython3",
   "version": "3.5.4"
  }
 },
 "nbformat": 4,
 "nbformat_minor": 2
}
